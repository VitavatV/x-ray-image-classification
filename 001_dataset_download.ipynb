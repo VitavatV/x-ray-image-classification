{
 "cells": [
  {
   "cell_type": "code",
   "execution_count": 20,
   "metadata": {},
   "outputs": [
    {
     "name": "stdout",
     "output_type": "stream",
     "text": [
      "Downloading from https://www.kaggle.com/api/v1/datasets/download/paultimothymooney/chest-xray-pneumonia?dataset_version_number=2...\n"
     ]
    },
    {
     "name": "stderr",
     "output_type": "stream",
     "text": [
      "100%|██████████| 2.29G/2.29G [01:51<00:00, 22.2MB/s]"
     ]
    },
    {
     "name": "stdout",
     "output_type": "stream",
     "text": [
      "Extracting files...\n"
     ]
    },
    {
     "name": "stderr",
     "output_type": "stream",
     "text": [
      "\n"
     ]
    },
    {
     "name": "stdout",
     "output_type": "stream",
     "text": [
      "Path to dataset files: C:\\Users\\TimePC\\.cache\\kagglehub\\datasets\\paultimothymooney\\chest-xray-pneumonia\\versions\\2\n"
     ]
    }
   ],
   "source": [
    "# https://www.kaggle.com/datasets/paultimothymooney/chest-xray-pneumonia\n",
    "import kagglehub\n",
    "\n",
    "# Download latest version\n",
    "path = kagglehub.dataset_download(\"paultimothymooney/chest-xray-pneumonia\")\n",
    "\n",
    "print(\"Path to dataset files:\", path)"
   ]
  },
  {
   "cell_type": "code",
   "execution_count": 21,
   "metadata": {},
   "outputs": [
    {
     "name": "stdout",
     "output_type": "stream",
     "text": [
      "Downloading from https://www.kaggle.com/api/v1/datasets/download/itsanmol124/mimic-cxr?dataset_version_number=1...\n"
     ]
    },
    {
     "name": "stderr",
     "output_type": "stream",
     "text": [
      "100%|██████████| 2.04G/2.04G [01:45<00:00, 20.8MB/s]"
     ]
    },
    {
     "name": "stdout",
     "output_type": "stream",
     "text": [
      "Extracting files...\n"
     ]
    },
    {
     "name": "stderr",
     "output_type": "stream",
     "text": [
      "\n"
     ]
    },
    {
     "name": "stdout",
     "output_type": "stream",
     "text": [
      "Path to dataset files: C:\\Users\\TimePC\\.cache\\kagglehub\\datasets\\itsanmol124\\mimic-cxr\\versions\\1\n"
     ]
    }
   ],
   "source": [
    "import kagglehub\n",
    "\n",
    "# Download latest version\n",
    "path = kagglehub.dataset_download(\"itsanmol124/mimic-cxr\")\n",
    "\n",
    "print(\"Path to dataset files:\", path)"
   ]
  },
  {
   "cell_type": "code",
   "execution_count": null,
   "metadata": {},
   "outputs": [],
   "source": [
    "import pandas as pd\n",
    "import os\n",
    "import shutil\n",
    "data_path = r'C:\\Users\\TimePC\\.cache\\kagglehub\\datasets\\itsanmol124\\mimic-cxr\\versions\\1'\n",
    "df = pd.read_csv(os.path.join(data_path,'mimic-cxr.csv'))\n",
    "for idx,row in df.iterrows():\n",
    "    group = row['split']\n",
    "    new_group = 'val' if group == 'valid' else group\n",
    "    filename = row['filename']\n",
    "    label = row['label']\n",
    "    new_label = 'Normal' if label == 'Normal' else 'Abnormal'\n",
    "    group_path = os.path.join(data_path,new_group)\n",
    "    label_path = os.path.join(group_path,new_label)\n",
    "    os.makedirs(label_path,exist_ok=True)\n",
    "    src_file = os.path.join(group_path,filename)\n",
    "    dst_file = os.path.join(label_path,filename)\n",
    "    shutil.move(src_file,dst_file)\n",
    "\n"
   ]
  },
  {
   "cell_type": "code",
   "execution_count": 5,
   "metadata": {},
   "outputs": [
    {
     "name": "stdout",
     "output_type": "stream",
     "text": [
      "Downloading from https://www.kaggle.com/api/v1/datasets/download/mimsadiislam/chexpert?dataset_version_number=1...\n"
     ]
    },
    {
     "name": "stderr",
     "output_type": "stream",
     "text": [
      "100%|██████████| 10.7G/10.7G [08:52<00:00, 21.6MB/s]  "
     ]
    },
    {
     "name": "stdout",
     "output_type": "stream",
     "text": [
      "Extracting files...\n"
     ]
    },
    {
     "name": "stderr",
     "output_type": "stream",
     "text": [
      "\n"
     ]
    },
    {
     "name": "stdout",
     "output_type": "stream",
     "text": [
      "Path to dataset files: C:\\Users\\TimePC\\.cache\\kagglehub\\datasets\\mimsadiislam\\chexpert\\versions\\1\n"
     ]
    }
   ],
   "source": [
    "import kagglehub\n",
    "\n",
    "# Download latest version\n",
    "path = kagglehub.dataset_download(\"mimsadiislam/chexpert\")\n",
    "\n",
    "print(\"Path to dataset files:\", path)"
   ]
  },
  {
   "cell_type": "code",
   "execution_count": 6,
   "metadata": {},
   "outputs": [
    {
     "name": "stdout",
     "output_type": "stream",
     "text": [
      "                                                Path     Sex  Age  \\\n",
      "0  CheXpert-v1.0-small/train/patient00001/study1/...  Female   68   \n",
      "1  CheXpert-v1.0-small/train/patient00002/study2/...  Female   87   \n",
      "2  CheXpert-v1.0-small/train/patient00002/study1/...  Female   83   \n",
      "3  CheXpert-v1.0-small/train/patient00002/study1/...  Female   83   \n",
      "4  CheXpert-v1.0-small/train/patient00003/study1/...    Male   41   \n",
      "\n",
      "  Frontal/Lateral AP/PA  No Finding  Enlarged Cardiomediastinum  Cardiomegaly  \\\n",
      "0         Frontal    AP         1.0                         NaN           NaN   \n",
      "1         Frontal    AP         NaN                         NaN          -1.0   \n",
      "2         Frontal    AP         NaN                         NaN           NaN   \n",
      "3         Lateral   NaN         NaN                         NaN           NaN   \n",
      "4         Frontal    AP         NaN                         NaN           NaN   \n",
      "\n",
      "   Lung Opacity  Lung Lesion  Edema  Consolidation  Pneumonia  Atelectasis  \\\n",
      "0           NaN          NaN    NaN            NaN        NaN          NaN   \n",
      "1           1.0          NaN   -1.0           -1.0        NaN         -1.0   \n",
      "2           1.0          NaN    NaN           -1.0        NaN          NaN   \n",
      "3           1.0          NaN    NaN           -1.0        NaN          NaN   \n",
      "4           NaN          NaN    1.0            NaN        NaN          NaN   \n",
      "\n",
      "   Pneumothorax  Pleural Effusion  Pleural Other  Fracture  Support Devices  \\\n",
      "0           0.0               NaN            NaN       NaN              1.0   \n",
      "1           NaN              -1.0            NaN       1.0              NaN   \n",
      "2           NaN               NaN            NaN       1.0              NaN   \n",
      "3           NaN               NaN            NaN       1.0              NaN   \n",
      "4           0.0               NaN            NaN       NaN              NaN   \n",
      "\n",
      "   group  \n",
      "0  train  \n",
      "1  train  \n",
      "2  train  \n",
      "3  train  \n",
      "4  train  \n"
     ]
    }
   ],
   "source": [
    "import pandas as pd\n",
    "import os\n",
    "import shutil\n",
    "data_path = r'C:\\Users\\TimePC\\.cache\\kagglehub\\datasets\\mimsadiislam\\chexpert\\versions\\1'\n",
    "df_list = []\n",
    "data_set = {\n",
    "    'train':'train.csv',\n",
    "    'test':'valid.csv',\n",
    "}\n",
    "for group,file_txt in data_set.items():\n",
    "    df_temp = pd.read_csv(os.path.join(data_path,'CheXpert-v1.0-small',file_txt))\n",
    "    df_temp['group'] = group\n",
    "    df_list.append(df_temp)\n",
    "df = pd.concat(df_list)\n",
    "print(df.head())\n",
    "\n",
    "for idx,row in df.iterrows():\n",
    "    filepath = row['Path']\n",
    "    filepath_split = filepath.split('/')\n",
    "    group = row['group']\n",
    "    if group == 'train':\n",
    "        if idx % 10 == 4:\n",
    "            group = 'val'\n",
    "        elif idx % 10 == 9:\n",
    "            group = 'val'\n",
    "    no_finding = row['No Finding']\n",
    "    new_label = 'Normal' if no_finding == 1 else 'Abnormal'\n",
    "    group_path = os.path.join(data_path,group)\n",
    "    label_path = os.path.join(group_path,new_label)\n",
    "    os.makedirs(label_path,exist_ok=True)\n",
    "    src_file = os.path.join(data_path,filepath)\n",
    "    filename = '_'.join(filepath_split[2:])\n",
    "    dst_file = os.path.join(label_path,filename)\n",
    "    try:\n",
    "        shutil.move(src_file,dst_file)\n",
    "    except:\n",
    "        print('error:',src_file)\n"
   ]
  },
  {
   "cell_type": "code",
   "execution_count": 1,
   "metadata": {},
   "outputs": [
    {
     "name": "stderr",
     "output_type": "stream",
     "text": [
      "c:\\Python313\\Lib\\site-packages\\tqdm\\auto.py:21: TqdmWarning: IProgress not found. Please update jupyter and ipywidgets. See https://ipywidgets.readthedocs.io/en/stable/user_install.html\n",
      "  from .autonotebook import tqdm as notebook_tqdm\n"
     ]
    },
    {
     "name": "stdout",
     "output_type": "stream",
     "text": [
      "Downloading from https://www.kaggle.com/api/v1/datasets/download/lawhan/chestx-ray14?dataset_version_number=1...\n"
     ]
    },
    {
     "name": "stderr",
     "output_type": "stream",
     "text": [
      "100%|██████████| 2.27G/2.27G [01:54<00:00, 21.4MB/s]"
     ]
    },
    {
     "name": "stdout",
     "output_type": "stream",
     "text": [
      "Extracting files...\n"
     ]
    },
    {
     "name": "stderr",
     "output_type": "stream",
     "text": [
      "\n"
     ]
    },
    {
     "name": "stdout",
     "output_type": "stream",
     "text": [
      "Path to dataset files: C:\\Users\\TimePC\\.cache\\kagglehub\\datasets\\lawhan\\chestx-ray14\\versions\\1\n"
     ]
    }
   ],
   "source": [
    "import kagglehub\n",
    "\n",
    "# Download latest version\n",
    "path = kagglehub.dataset_download(\"lawhan/chestx-ray14\")\n",
    "\n",
    "print(\"Path to dataset files:\", path)"
   ]
  },
  {
   "cell_type": "code",
   "execution_count": 2,
   "metadata": {},
   "outputs": [
    {
     "name": "stdout",
     "output_type": "stream",
     "text": [
      "           filename  1  2  3  4  5  6  7  8  9  10  11  12  13  14  group  sum\n",
      "0  00001522_000.png  0  0  0  0  0  0  0  0  0   0   0   0   0   0  train    0\n",
      "1  00023313_000.png  1  0  0  0  0  0  0  0  0   0   0   0   0   0  train    1\n",
      "2  00023313_001.png  0  0  0  0  0  0  0  0  0   0   0   0   0   0  train    0\n",
      "3  00023313_002.png  0  0  1  0  0  0  0  1  0   0   1   0   0   0  train    3\n",
      "4  00023313_003.png  0  0  0  1  0  0  0  0  0   0   0   0   0   0  train    1\n"
     ]
    }
   ],
   "source": [
    "import pandas as pd\n",
    "import os\n",
    "import shutil\n",
    "data_path = r'C:\\Users\\TimePC\\.cache\\kagglehub\\datasets\\lawhan\\chestx-ray14\\versions\\1\\ChestX-ray14'\n",
    "df_list = []\n",
    "data_set = {\n",
    "    'train':'train_list.txt',\n",
    "    'val':'val_list.txt',\n",
    "    'test':'test_list.txt',\n",
    "}\n",
    "for group,file_txt in data_set.items():\n",
    "    df_temp = pd.read_csv(os.path.join(data_path,'labels',file_txt),\n",
    "                    names=['filename','1','2','3','4','5','6','7','8','9','10','11','12','13','14'],\n",
    "                     sep=' ')\n",
    "    df_temp['group'] = group\n",
    "    df_list.append(df_temp)\n",
    "df = pd.concat(df_list)\n",
    "cols_to_sum = [str(i) for i in range(1, 15)]  # Convert column names to strings\n",
    "df[\"sum\"] = df[cols_to_sum].sum(axis=1)\n",
    "print(df.head())\n",
    "for idx,row in df.iterrows():\n",
    "    filename = row['filename']\n",
    "    group = row['group']\n",
    "    sum = row['sum']\n",
    "    new_label = 'Normal' if sum == 0 else 'Abnormal'\n",
    "    group_path = os.path.join(data_path,group)\n",
    "    label_path = os.path.join(group_path,new_label)\n",
    "    os.makedirs(label_path,exist_ok=True)\n",
    "    src_file = os.path.join(data_path,'images-224',filename)\n",
    "    dst_file = os.path.join(label_path,filename)\n",
    "    try:\n",
    "        shutil.move(src_file,dst_file)\n",
    "    except:\n",
    "        print('error:',src_file)\n",
    "\n"
   ]
  }
 ],
 "metadata": {
  "kernelspec": {
   "display_name": "Python 3",
   "language": "python",
   "name": "python3"
  },
  "language_info": {
   "codemirror_mode": {
    "name": "ipython",
    "version": 3
   },
   "file_extension": ".py",
   "mimetype": "text/x-python",
   "name": "python",
   "nbconvert_exporter": "python",
   "pygments_lexer": "ipython3",
   "version": "3.13.3"
  }
 },
 "nbformat": 4,
 "nbformat_minor": 2
}

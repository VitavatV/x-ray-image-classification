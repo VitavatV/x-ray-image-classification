{
 "cells": [
  {
   "cell_type": "code",
   "execution_count": 3,
   "id": "deaa1dc8",
   "metadata": {
    "vscode": {
     "languageId": "markdown"
    }
   },
   "outputs": [],
   "source": [
    "# File Description:\n",
    "# This Jupyter Notebook provides utilities for counting image files in multiple dataset directories.\n",
    "# It defines a function `count_images_in_subdirs` that takes a dictionary mapping dataset names to their paths,\n",
    "# and counts the number of image files (with common image extensions) in each dataset directory, including subdirectories.\n",
    "# The variable `dataset_dict` contains example dataset paths for use with this function."
   ]
  },
  {
   "cell_type": "code",
   "execution_count": 6,
   "id": "da3f9051",
   "metadata": {},
   "outputs": [
    {
     "name": "stdout",
     "output_type": "stream",
     "text": [
      "Dataset: paultimothymooney\n",
      "  train: 5216 images\n",
      "  val: 16 images\n",
      "  test: 624 images\n",
      "\n",
      "Dataset: mimic_cxr\n",
      "  train: 83837 images\n",
      "  val: 711 images\n",
      "  test: 1455 images\n",
      "\n",
      "Dataset: chexpert\n",
      "  train: 178732 images\n",
      "  val: 44682 images\n",
      "  test: 234 images\n",
      "\n",
      "Dataset: chestx_ray14\n",
      "  train: 78468 images\n",
      "  val: 11219 images\n",
      "  test: 22433 images\n",
      "\n"
     ]
    }
   ],
   "source": [
    "import os\n",
    "\n",
    "def count_images_by_split(dataset_dict, splits=('train', 'val', 'test'), image_extensions={'.jpg', '.jpeg', '.png', '.bmp', '.gif', '.tiff'}):\n",
    "    split_counts = {}\n",
    "    for d_name, d_path in dataset_dict.items():\n",
    "        split_counts[d_name] = {}\n",
    "        for split in splits:\n",
    "            split_dir = os.path.join(d_path, split)\n",
    "            count = 0\n",
    "            if os.path.exists(split_dir):\n",
    "                for root, dirs, files in os.walk(split_dir):\n",
    "                    for file in files:\n",
    "                        if os.path.splitext(file)[1].lower() in image_extensions:\n",
    "                            count += 1\n",
    "            split_counts[d_name][split] = count\n",
    "    return split_counts\n",
    "\n",
    "# Example usage:\n",
    "dataset_dict = {\n",
    "    'paultimothymooney':r'C:\\Users\\TimePC\\.cache\\kagglehub\\datasets\\paultimothymooney\\chest-xray-pneumonia\\versions\\2\\chest_xray',\n",
    "    'mimic_cxr':r'C:\\Users\\TimePC\\.cache\\kagglehub\\datasets\\itsanmol124\\mimic-cxr\\versions\\1',\n",
    "    'chexpert':r'C:\\Users\\TimePC\\.cache\\kagglehub\\datasets\\mimsadiislam\\chexpert\\versions\\1',\n",
    "    'chestx_ray14':r'C:\\Users\\TimePC\\.cache\\kagglehub\\datasets\\lawhan\\chestx-ray14\\versions\\1\\ChestX-ray14',\n",
    "    }\n",
    "# print(count_images_by_split(dataset_dict))\n",
    "for d_name, counts in count_images_by_split(dataset_dict).items():\n",
    "    print(f\"Dataset: {d_name}\")\n",
    "    for split, count in counts.items():\n",
    "        print(f\"  {split}: {count} images\")\n",
    "    print()\n"
   ]
  }
 ],
 "metadata": {
  "kernelspec": {
   "display_name": "Python 3",
   "language": "python",
   "name": "python3"
  },
  "language_info": {
   "codemirror_mode": {
    "name": "ipython",
    "version": 3
   },
   "file_extension": ".py",
   "mimetype": "text/x-python",
   "name": "python",
   "nbconvert_exporter": "python",
   "pygments_lexer": "ipython3",
   "version": "3.13.3"
  }
 },
 "nbformat": 4,
 "nbformat_minor": 5
}
